{
  "cells": [
    {
      "cell_type": "markdown",
      "metadata": {
        "id": "view-in-github",
        "colab_type": "text"
      },
      "source": [
        "<a href=\"https://colab.research.google.com/github/Saya-Sayita/Challenge2-TelecomX-main/blob/main/Informe_Challenge2_TelecomX.ipynb\" target=\"_parent\"><img src=\"https://colab.research.google.com/assets/colab-badge.svg\" alt=\"Open In Colab\"/></a>"
      ]
    },
    {
      "cell_type": "markdown",
      "metadata": {
        "id": "2iR6aLcAW6BW"
      },
      "source": [
        "# Informe de Fuga de Clientes – Telecom X\n",
        "\n",
        "Este informe presenta un análisis detallado de la fuga de clientes en la empresa Telecom X, basado en datos reales. Se incluyen análisis exploratorios, hallazgos clave, recomendaciones para la empresa y sugerencias para el equipo de ciencia de datos para mejorar la fidelización y reducir la tasa de fuga."
      ],
      "id": "2iR6aLcAW6BW"
    },
    {
      "cell_type": "markdown",
      "metadata": {
        "id": "T65djPsqW6BZ"
      },
      "source": [
        "## 1. Introducción\n",
        "\n",
        "La fuga de clientes es un problema crítico que impacta directamente en la rentabilidad y crecimiento de Telecom X. Este informe analiza los patrones de fuga, identifica los factores asociados y propone recomendaciones para mitigarla."
      ],
      "id": "T65djPsqW6BZ"
    },
    {
      "cell_type": "markdown",
      "source": [
        "## 2. Análisis Exploratorio"
      ],
      "metadata": {
        "id": "8XcbEMyzFAGF"
      },
      "id": "8XcbEMyzFAGF"
    },
    {
      "cell_type": "markdown",
      "metadata": {
        "id": "mDjPXDJxW6Ba"
      },
      "source": [
        "### 2.1 Fuga por Género\n",
        "\n",
        "Los datos muestran que la tasa de fuga es similar entre mujeres (27%) y hombres (26.2%), por lo que el género no parece ser un factor determinante en la decisión de abandonar la empresa."
      ],
      "id": "mDjPXDJxW6Ba"
    },
    {
      "cell_type": "markdown",
      "source": [
        "![Grafico por Genero](https://github.com/Saya-Sayita/Challenge2-TelecomX-main/blob/main/imagenes/porGenero.png?raw=true)"
      ],
      "metadata": {
        "id": "SeBod06p9qsm"
      },
      "id": "SeBod06p9qsm"
    },
    {
      "cell_type": "markdown",
      "metadata": {
        "id": "W8oYb0hWW6Bc"
      },
      "source": [
        "### 2.2 Fuga por Senior Citizen\n",
        "\n",
        "Se observa que los clientes mayores (senior) tienen una tasa de fuga significativamente mayor (41.7%) en comparación con los no senior (23.7%), lo que indica que este segmento es más vulnerable a abandonar el servicio."
      ],
      "id": "W8oYb0hWW6Bc"
    },
    {
      "cell_type": "markdown",
      "source": [
        "![Fuga senior](https://github.com/Saya-Sayita/Challenge2-TelecomX-main/blob/main/imagenes/fugaPorSenior.png?raw=true)"
      ],
      "metadata": {
        "id": "43kqcMd95H0D"
      },
      "id": "43kqcMd95H0D"
    },
    {
      "cell_type": "markdown",
      "metadata": {
        "id": "6Mwum0MwW6Bd"
      },
      "source": [
        "### 2.3 Fuga según Meses de Permanencia\n",
        "\n",
        "La fuga es mayor en los primeros meses de permanencia, alcanzando un 62% en el primer mes, y disminuye progresivamente conforme aumenta el tiempo que el cliente lleva con la empresa.\n",
        "\n"
      ],
      "id": "6Mwum0MwW6Bd"
    },
    {
      "cell_type": "markdown",
      "source": [
        "![fugaPorMesPermanencia](https://github.com/Saya-Sayita/Challenge2-TelecomX-main/blob/main/imagenes/fugaPorMesPermanencia.png?raw=true)\n",
        "\n",
        "\n",
        "![TasaFugaMesPermanencia](https://github.com/Saya-Sayita/Challenge2-TelecomX-main/blob/main/imagenes/TasaFugaMesPermanencia.png?raw=true)\n"
      ],
      "metadata": {
        "id": "v7EEw1Mz979k"
      },
      "id": "v7EEw1Mz979k"
    },
    {
      "cell_type": "markdown",
      "metadata": {
        "id": "wlJSG8zoW6Bd"
      },
      "source": [
        "### 2.4 Promedio de Cargos Mensuales por Tenure y Estado de Fuga\n",
        "\n",
        "Los clientes que se van suelen tener cargos mensuales más altos que los que permanecen, especialmente en las etapas iniciales, lo que podría indicar que los precios influyen en la decisión de abandono."
      ],
      "id": "wlJSG8zoW6Bd"
    },
    {
      "cell_type": "markdown",
      "source": [
        "\n",
        "![Grafico Carga mensual fuga](https://github.com/Saya-Sayita/Challenge2-TelecomX-main/blob/main/imagenes/PromCargaMensualDeFugas.png?raw=true)"
      ],
      "metadata": {
        "id": "H81QLlSVAv2L"
      },
      "id": "H81QLlSVAv2L"
    },
    {
      "cell_type": "markdown",
      "source": [
        "![grafico](https://github.com/Saya-Sayita/Challenge2-TelecomX-main/blob/main/imagenes/PromedioCargaMensualClientes.png?raw=true)"
      ],
      "metadata": {
        "id": "bBQHYjMQ-eOa"
      },
      "id": "bBQHYjMQ-eOa"
    },
    {
      "cell_type": "markdown",
      "metadata": {
        "id": "aSdjLdnDW6Be"
      },
      "source": [
        "### 2.5 Fuga según Tipo de Contrato\n",
        "\n",
        "Los contratos de tipo \"mes a mes\" presentan una tasa de fuga del 42.7%, mucho más alta que los contratos de un año o dos años, que tienen tasas inferiores al 12% y 3%, respectivamente."
      ],
      "id": "aSdjLdnDW6Be"
    },
    {
      "cell_type": "markdown",
      "source": [
        "![Fugas segun Tipo de Contrato](https://github.com/Saya-Sayita/Challenge2-TelecomX-main/blob/main/imagenes/FugasTipoContrato.png?raw=true)"
      ],
      "metadata": {
        "id": "sWIte_0o-Ts9"
      },
      "id": "sWIte_0o-Ts9"
    },
    {
      "cell_type": "markdown",
      "metadata": {
        "id": "5-C0wW7-W6Be"
      },
      "source": [
        "## 3. Hallazgos Clave\n",
        "\n",
        "- La fuga es mayor en clientes nuevos, especialmente durante los primeros meses.\n",
        "- Clientes senior tienen una probabilidad mayor de abandonar el servicio.\n",
        "- Los contratos a corto plazo favorecen la fuga, mientras que los contratos largos fidelizan más.\n",
        "- Altos cargos mensuales están asociados con una mayor tasa de fuga.\n",
        "- El tipo de servicio de internet también influye, siendo la fibra óptica la que presenta mayor fuga."
      ],
      "id": "5-C0wW7-W6Be"
    },
    {
      "cell_type": "markdown",
      "metadata": {
        "id": "8PRLPOZoW6Bf"
      },
      "source": [
        "## 4. Recomendaciones para la Empresa\n",
        "\n",
        "1. Incentivar la firma de contratos a largo plazo mediante beneficios y descuentos.\n",
        "2. Implementar programas específicos para clientes senior, con atención personalizada y ofertas adaptadas.\n",
        "3. Revisar y optimizar la estructura de precios para aumentar la percepción de valor.\n",
        "4. Mejorar la calidad y experiencia del servicio de fibra óptica.\n",
        "5. Desarrollar programas de bienvenida y seguimiento intensivo para nuevos clientes."
      ],
      "id": "8PRLPOZoW6Bf"
    },
    {
      "cell_type": "markdown",
      "metadata": {
        "id": "8TN9-fmYW6Bf"
      },
      "source": [
        "## 5. Sugerencias para el Equipo de Ciencia de Datos\n",
        "\n",
        "- Implementar dashboards para monitoreo continuo de la fuga y sus variables asociadas.\n",
        "- Recopilar nuevas variables que reflejen satisfacción y calidad del servicio.\n",
        "- Mejorar los modelos predictivos con segmentación avanzada y variables de interacción.\n",
        "- Validar y actualizar periódicamente los modelos según comportamiento real de los clientes."
      ],
      "id": "8TN9-fmYW6Bf"
    },
    {
      "cell_type": "markdown",
      "source": [
        "## 6. Resumen Ejecutivo\n",
        "\n",
        "La Empresa Telecom X enfrenta una tasa de fuga significativa entre sus clientes, especialmente durante los primeros meses de permanencia y en usuarios con contratos flexibles o cargos mensuales elevados. Este informe identifica patrones claros asociados al abandono del servicio y entrega recomendaciones orientadas a mitigar el problema.\n",
        "\n",
        "Entre los principales hallazgos destacan:\n",
        "\n",
        "Una tasa de fuga del 62% en el primer mes de permanencia, que disminuye con el tiempo.\n",
        "\n",
        "Mayor abandono en clientes senior (41.7%) comparado con no senior (23.7%).\n",
        "\n",
        "Contratos mensuales presentan una tasa de fuga del 42.7%, mientras los de dos años tienen solo 2.8%.\n",
        "\n",
        "Clientes que se fugan presentan cargos mensuales promedio más altos ($74.44 vs $61.31).\n",
        "\n",
        "Usuarios con servicio de fibra óptica tienen una tasa de fuga del 41.9%, superior a DSL o sin internet.\n",
        "\n",
        "Con base en estos datos, se proponen estrategias centradas en:\n",
        "\n",
        "Fidelización temprana.\n",
        "\n",
        "Incentivos para contratos a largo plazo.\n",
        "\n",
        "Ajustes en precios y ofertas para clientes con alto riesgo de fuga.\n",
        "\n",
        "Segmentación y seguimiento proactivo a perfiles vulnerables.\n",
        "\n",
        "Además, se recomienda fortalecer las capacidades del equipo de ciencia de datos mediante dashboards dinámicos, segmentación avanzada y modelos predictivos continuamente validados.\n",
        "\n",
        "Este informe proporciona una base sólida para la toma de decisiones orientadas a la reducción efectiva de la fuga y al fortalecimiento de la relación con los clientes."
      ],
      "metadata": {
        "id": "DcTl9SMBNn22"
      },
      "id": "DcTl9SMBNn22"
    },
    {
      "cell_type": "markdown",
      "metadata": {
        "id": "7uHkJpteW6Bf"
      },
      "source": [
        "## 7. Conclusión\n",
        "\n",
        "La empresa Telecom X puede reducir significativamente la fuga de clientes enfocándose en los segmentos más vulnerables y optimizando contratos y precios. El monitoreo constante y el análisis predictivo serán herramientas clave para anticipar riesgos y aplicar acciones oportunas.\n",
        "\n",
        "Telecom X enfrenta un desafío significativo con la fuga de clientes, que impacta directamente en su rentabilidad y crecimiento sostenible. El análisis demuestra que:\n",
        "\n",
        "La tasa de fuga es mucho más alta en los primeros meses de permanencia, alcanzando un 62% en el primer mes y disminuyendo progresivamente a medida que los clientes llevan más tiempo con la empresa. Esto indica que la fase inicial es crítica para la retención.\n",
        "\n",
        "Los clientes senior presentan una tasa de abandono notablemente mayor (41.7%) comparado con clientes no senior (23.7%), evidenciando que este segmento es más vulnerable y requiere atención personalizada.\n",
        "\n",
        "El tipo de contrato tiene una fuerte influencia en la fuga: los contratos mes a mes tienen una tasa de fuga del 42.7%, mientras que los contratos a un año y dos años presentan tasas mucho menores, 11.3% y 2.8% respectivamente, lo que muestra que los contratos a largo plazo fomentan la fidelización.\n",
        "\n",
        "Los cargos mensuales promedio son más altos en clientes que abandonan (promedio de \\$74.44) frente a los que permanecen (\\$61.31), sugiriendo que el costo percibido puede ser un factor importante en la decisión de irse.\n",
        "\n",
        "En cuanto al tipo de servicio de internet, la fibra óptica muestra una tasa de fuga elevada del 41.9%, en comparación con el DSL (19%) y clientes sin servicio de internet (7.4%), señalando áreas de mejora en este segmento.\n",
        "\n",
        "Adicionalmente, otros servicios como el uso de Streaming TV y la presencia de servicio telefónico aportan variables importantes para enriquecer el modelo predictivo. Por ejemplo, clientes con servicio de streaming presentan tasas de fuga más elevadas (hasta 30.1%) que quienes no lo usan (7.4% en usuarios sin internet). Si bien estos factores no alteran las conclusiones generales, sí mejoran la segmentación de riesgo y la precisión de modelos analíticos.\n",
        "\n",
        "Estos datos subrayan la importancia de implementar estrategias diferenciadas y basadas en evidencia para mejorar la retención. Fomentar contratos a largo plazo no solo estabiliza ingresos sino que reduce la fuga; atender especialmente a clientes senior con ofertas y soporte personalizado puede disminuir su abandono; y revisar la estructura de precios, especialmente en clientes con cargos altos, puede mejorar la percepción de valor.\n",
        "\n",
        "Además, mejorar la calidad y experiencia del servicio, especialmente en fibra óptica, es clave para mantener satisfechos a los clientes en ese segmento.\n",
        "\n",
        "Finalmente, incorporar un monitoreo continuo y modelos predictivos basados en estas variables permitirá anticipar posibles fugas y activar acciones preventivas, haciendo la gestión de la retención un proceso proactivo y centrado en datos.\n",
        "\n",
        "En suma, con una combinación de acciones comerciales, operativas y analíticas fundamentadas en estos hallazgos, Telecom X podrá reducir sustancialmente la fuga, optimizar ingresos y fortalecer su posición competitiva en el mercado."
      ],
      "id": "7uHkJpteW6Bf"
    }
  ],
  "metadata": {
    "kernelspec": {
      "display_name": "Python 3",
      "language": "python",
      "name": "python3"
    },
    "language_info": {
      "name": "python",
      "version": "3.10"
    },
    "colab": {
      "provenance": [],
      "include_colab_link": true
    }
  },
  "nbformat": 4,
  "nbformat_minor": 5
}